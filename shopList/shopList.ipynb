{
 "cells": [
  {
   "cell_type": "code",
   "execution_count": 26,
   "metadata": {
    "Collapsed": "false"
   },
   "outputs": [],
   "source": [
    "import pandas as pd\n",
    "import pickle\n",
    "import requests\n",
    "import json\n",
    "import time\n",
    "import numpy as np"
   ]
  },
  {
   "cell_type": "markdown",
   "metadata": {
    "Collapsed": "false"
   },
   "source": [
    "# Load data"
   ]
  },
  {
   "cell_type": "code",
   "execution_count": 39,
   "metadata": {
    "Collapsed": "false"
   },
   "outputs": [
    {
     "data": {
      "text/html": [
       "<div>\n",
       "<style scoped>\n",
       "    .dataframe tbody tr th:only-of-type {\n",
       "        vertical-align: middle;\n",
       "    }\n",
       "\n",
       "    .dataframe tbody tr th {\n",
       "        vertical-align: top;\n",
       "    }\n",
       "\n",
       "    .dataframe thead th {\n",
       "        text-align: right;\n",
       "    }\n",
       "</style>\n",
       "<table border=\"1\" class=\"dataframe\">\n",
       "  <thead>\n",
       "    <tr style=\"text-align: right;\">\n",
       "      <th></th>\n",
       "      <th>0</th>\n",
       "      <th>1</th>\n",
       "      <th>2</th>\n",
       "      <th>3</th>\n",
       "    </tr>\n",
       "  </thead>\n",
       "  <tbody>\n",
       "    <tr>\n",
       "      <td>0</td>\n",
       "      <td>00160cb5-9d9f-47fb-91ba-9e6f356cc9cf</td>\n",
       "      <td>22.299948</td>\n",
       "      <td>114.175194</td>\n",
       "      <td>女裝衫褲/女裝鞋/袋</td>\n",
       "    </tr>\n",
       "    <tr>\n",
       "      <td>1</td>\n",
       "      <td>001baf57-fd79-4aa3-b8c5-cc4b1ee90dc7</td>\n",
       "      <td>22.281746</td>\n",
       "      <td>114.127070</td>\n",
       "      <td>生活百貨/健康食品/素食</td>\n",
       "    </tr>\n",
       "    <tr>\n",
       "      <td>2</td>\n",
       "      <td>0023a0b8-7591-4558-bcd0-aff0d31dd766</td>\n",
       "      <td>22.300175</td>\n",
       "      <td>114.175360</td>\n",
       "      <td>銀器/珠寶首飾/飾物</td>\n",
       "    </tr>\n",
       "    <tr>\n",
       "      <td>3</td>\n",
       "      <td>003659e0-08eb-4d13-ad1a-22bcfa911a7c</td>\n",
       "      <td>22.358134</td>\n",
       "      <td>114.127658</td>\n",
       "      <td>玩具/主題精品/禮品/代購</td>\n",
       "    </tr>\n",
       "    <tr>\n",
       "      <td>4</td>\n",
       "      <td>00396213-e822-490d-880b-64704cdef0c5</td>\n",
       "      <td>22.452254</td>\n",
       "      <td>114.000403</td>\n",
       "      <td>日本菜</td>\n",
       "    </tr>\n",
       "  </tbody>\n",
       "</table>\n",
       "</div>"
      ],
      "text/plain": [
       "                                      0          1           2              3\n",
       "0  00160cb5-9d9f-47fb-91ba-9e6f356cc9cf  22.299948  114.175194     女裝衫褲/女裝鞋/袋\n",
       "1  001baf57-fd79-4aa3-b8c5-cc4b1ee90dc7  22.281746  114.127070   生活百貨/健康食品/素食\n",
       "2  0023a0b8-7591-4558-bcd0-aff0d31dd766  22.300175  114.175360     銀器/珠寶首飾/飾物\n",
       "3  003659e0-08eb-4d13-ad1a-22bcfa911a7c  22.358134  114.127658  玩具/主題精品/禮品/代購\n",
       "4  00396213-e822-490d-880b-64704cdef0c5  22.452254  114.000403            日本菜"
      ]
     },
     "execution_count": 39,
     "metadata": {},
     "output_type": "execute_result"
    }
   ],
   "source": [
    "data_df = pd.read_pickle('./shopList.pkl')\n",
    "data_df.head()"
   ]
  },
  {
   "cell_type": "code",
   "execution_count": 40,
   "metadata": {
    "Collapsed": "false"
   },
   "outputs": [],
   "source": [
    "with open('./industries2tags.pkl', 'rb') as f:\n",
    "    industries = pickle.load(f)"
   ]
  },
  {
   "cell_type": "code",
   "execution_count": 41,
   "metadata": {
    "Collapsed": "false"
   },
   "outputs": [
    {
     "name": "stdout",
     "output_type": "stream",
     "text": [
      "dict_keys(['餐飲', '食物零售', '服裝及配飾', '休閒娛樂', '醫療及保健', '美容及個人護理', '婚禮服務', '禮品、花卉及玩具', '音樂、攝影及藝術', '寵物', '家居', '影音電器', '工藝品及擺設', '運動及戶外活動', '興趣班', '教育及補習', '住宿', '交通及運輸', '宗教及節慶', '設計及製作', '商業及專業服務', '裝修及工程', '文儀印刷', 'App', '媒體專頁及其他']) \n",
      "\n"
     ]
    }
   ],
   "source": [
    "print (industries.keys(), '\\n')"
   ]
  },
  {
   "cell_type": "code",
   "execution_count": 42,
   "metadata": {
    "Collapsed": "false"
   },
   "outputs": [
    {
     "name": "stdout",
     "output_type": "stream",
     "text": [
      "['All day Breakfast', 'Cafe', '三文治', '上海菜', '串燒', '到會服務', '北京菜', '南美菜', '印尼菜', '印度菜', '台式飲品', '台灣菜', '四川菜', '墨西哥菜', '壽司刺身', '外賣店', '女僕Cafe', '客家菜', '小食店', '居酒屋', '廣東菜', '德國菜', '意大利菜', '意粉', '扒房', '拉麵', '放題或自助餐', '日本菜', '日韓燒肉', '星馬菜', '果汁', '法國菜', '泰國菜', '海鮮', '湯品', '漢堡包', '潮州菜', '火鍋', '烏冬', '熱狗', '燒臘', '牛肉飯', '甜品', '私房菜', '粥粉麵', '精品咖啡', '素食', '美國菜', '英國菜', '茶類飲品', '茶餐廳', '薄餅', '西式', '西班牙菜', '親子餐廳', '貓Cafe', '越南菜', '車仔麵', '酒吧', '酒精飲品', '雞煲', '雪糕', '韓國菜', '飲茶點心', '餃子', '麵包或蛋糕']\n"
     ]
    }
   ],
   "source": [
    "print (industries['餐飲'])"
   ]
  },
  {
   "cell_type": "code",
   "execution_count": 68,
   "metadata": {
    "Collapsed": "false"
   },
   "outputs": [],
   "source": [
    "for idx, row in data_df.iterrows():\n",
    "    data_df.loc[idx, 'industry'] = 'not_classified'\n",
    "    catas = row[3].split('/')\n",
    "    for industry in industries:\n",
    "        if set(industries[industry]) & set(catas):\n",
    "            data_df.loc[idx, 'industry'] = industry\n",
    "            break\n",
    "\n"
   ]
  },
  {
   "cell_type": "code",
   "execution_count": 69,
   "metadata": {
    "Collapsed": "false"
   },
   "outputs": [
    {
     "data": {
      "text/plain": [
       "3294"
      ]
     },
     "execution_count": 69,
     "metadata": {},
     "output_type": "execute_result"
    }
   ],
   "source": [
    "len(data_df)"
   ]
  },
  {
   "cell_type": "code",
   "execution_count": 70,
   "metadata": {
    "Collapsed": "false"
   },
   "outputs": [
    {
     "data": {
      "text/html": [
       "<div>\n",
       "<style scoped>\n",
       "    .dataframe tbody tr th:only-of-type {\n",
       "        vertical-align: middle;\n",
       "    }\n",
       "\n",
       "    .dataframe tbody tr th {\n",
       "        vertical-align: top;\n",
       "    }\n",
       "\n",
       "    .dataframe thead th {\n",
       "        text-align: right;\n",
       "    }\n",
       "</style>\n",
       "<table border=\"1\" class=\"dataframe\">\n",
       "  <thead>\n",
       "    <tr style=\"text-align: right;\">\n",
       "      <th></th>\n",
       "      <th>0</th>\n",
       "      <th>1</th>\n",
       "      <th>2</th>\n",
       "      <th>3</th>\n",
       "      <th>industry</th>\n",
       "    </tr>\n",
       "  </thead>\n",
       "  <tbody>\n",
       "    <tr>\n",
       "      <td>257</td>\n",
       "      <td>101bcae9-736e-4746-8c8c-d9fa1e691657</td>\n",
       "      <td>22.355097</td>\n",
       "      <td>114.125120</td>\n",
       "      <td>轉運集運</td>\n",
       "      <td>not_classified</td>\n",
       "    </tr>\n",
       "    <tr>\n",
       "      <td>378</td>\n",
       "      <td>1a46662f-b55a-4f56-b2e8-2118096cfec0</td>\n",
       "      <td>22.314889</td>\n",
       "      <td>114.168804</td>\n",
       "      <td>語言班</td>\n",
       "      <td>not_classified</td>\n",
       "    </tr>\n",
       "    <tr>\n",
       "      <td>420</td>\n",
       "      <td>1db011d9-a8b6-4273-af52-9f1689b37645</td>\n",
       "      <td>22.309705</td>\n",
       "      <td>114.226488</td>\n",
       "      <td>轉運集運</td>\n",
       "      <td>not_classified</td>\n",
       "    </tr>\n",
       "    <tr>\n",
       "      <td>941</td>\n",
       "      <td>451824de-7c9a-4f2d-8106-70f79f19b523</td>\n",
       "      <td>22.316049</td>\n",
       "      <td>114.170323</td>\n",
       "      <td>漫畫店</td>\n",
       "      <td>not_classified</td>\n",
       "    </tr>\n",
       "    <tr>\n",
       "      <td>1037</td>\n",
       "      <td>4c4b2338-2dfa-4ae1-a2fd-e5e1e42c7409</td>\n",
       "      <td>22.281418</td>\n",
       "      <td>114.154911</td>\n",
       "      <td>俄羅斯菜</td>\n",
       "      <td>not_classified</td>\n",
       "    </tr>\n",
       "    <tr>\n",
       "      <td>1372</td>\n",
       "      <td>68eeed2e-8009-46cf-ae2e-f1eb6234af17</td>\n",
       "      <td>22.317442</td>\n",
       "      <td>114.170104</td>\n",
       "      <td>女僕cafe</td>\n",
       "      <td>not_classified</td>\n",
       "    </tr>\n",
       "    <tr>\n",
       "      <td>2077</td>\n",
       "      <td>9f3da21a-2752-4954-be3f-347a8cb80e55</td>\n",
       "      <td>22.310284</td>\n",
       "      <td>114.226558</td>\n",
       "      <td>刻字</td>\n",
       "      <td>not_classified</td>\n",
       "    </tr>\n",
       "    <tr>\n",
       "      <td>2274</td>\n",
       "      <td>aef607cc-cbdb-4702-ba76-c5c370b29d82</td>\n",
       "      <td>22.442811</td>\n",
       "      <td>114.031286</td>\n",
       "      <td>水族用品</td>\n",
       "      <td>not_classified</td>\n",
       "    </tr>\n",
       "    <tr>\n",
       "      <td>2442</td>\n",
       "      <td>bcb6aee1-05e2-4b12-8938-c9d30dd04b73</td>\n",
       "      <td>22.319810</td>\n",
       "      <td>114.187338</td>\n",
       "      <td></td>\n",
       "      <td>not_classified</td>\n",
       "    </tr>\n",
       "    <tr>\n",
       "      <td>2444</td>\n",
       "      <td>bcbcd862-21df-4864-9b11-9c36880e0726</td>\n",
       "      <td>22.265117</td>\n",
       "      <td>114.236001</td>\n",
       "      <td>瑜珈</td>\n",
       "      <td>not_classified</td>\n",
       "    </tr>\n",
       "    <tr>\n",
       "      <td>2535</td>\n",
       "      <td>c4faafd5-9741-4929-adc2-c233d742ace0</td>\n",
       "      <td>22.283830</td>\n",
       "      <td>114.192427</td>\n",
       "      <td>語言班</td>\n",
       "      <td>not_classified</td>\n",
       "    </tr>\n",
       "    <tr>\n",
       "      <td>2778</td>\n",
       "      <td>d7881d97-8218-4aa2-b685-3c5013ff56cf</td>\n",
       "      <td>22.291872</td>\n",
       "      <td>114.201648</td>\n",
       "      <td></td>\n",
       "      <td>not_classified</td>\n",
       "    </tr>\n",
       "    <tr>\n",
       "      <td>2981</td>\n",
       "      <td>e7df9cf8-8ec0-4f97-81c7-4b27ba01123d</td>\n",
       "      <td>22.304028</td>\n",
       "      <td>114.170830</td>\n",
       "      <td>語言班</td>\n",
       "      <td>not_classified</td>\n",
       "    </tr>\n",
       "    <tr>\n",
       "      <td>3006</td>\n",
       "      <td>e9e61b7c-db58-4a56-8752-3ced57701dd8</td>\n",
       "      <td>22.301402</td>\n",
       "      <td>114.175937</td>\n",
       "      <td>訂製/婚紗租借禮服</td>\n",
       "      <td>not_classified</td>\n",
       "    </tr>\n",
       "    <tr>\n",
       "      <td>3137</td>\n",
       "      <td>f3689047-8b32-49a8-b3b7-4547dce791f4</td>\n",
       "      <td>22.398728</td>\n",
       "      <td>114.194400</td>\n",
       "      <td>轉運集運</td>\n",
       "      <td>not_classified</td>\n",
       "    </tr>\n",
       "  </tbody>\n",
       "</table>\n",
       "</div>"
      ],
      "text/plain": [
       "                                         0          1           2          3  \\\n",
       "257   101bcae9-736e-4746-8c8c-d9fa1e691657  22.355097  114.125120       轉運集運   \n",
       "378   1a46662f-b55a-4f56-b2e8-2118096cfec0  22.314889  114.168804        語言班   \n",
       "420   1db011d9-a8b6-4273-af52-9f1689b37645  22.309705  114.226488       轉運集運   \n",
       "941   451824de-7c9a-4f2d-8106-70f79f19b523  22.316049  114.170323        漫畫店   \n",
       "1037  4c4b2338-2dfa-4ae1-a2fd-e5e1e42c7409  22.281418  114.154911       俄羅斯菜   \n",
       "1372  68eeed2e-8009-46cf-ae2e-f1eb6234af17  22.317442  114.170104     女僕cafe   \n",
       "2077  9f3da21a-2752-4954-be3f-347a8cb80e55  22.310284  114.226558         刻字   \n",
       "2274  aef607cc-cbdb-4702-ba76-c5c370b29d82  22.442811  114.031286       水族用品   \n",
       "2442  bcb6aee1-05e2-4b12-8938-c9d30dd04b73  22.319810  114.187338              \n",
       "2444  bcbcd862-21df-4864-9b11-9c36880e0726  22.265117  114.236001         瑜珈   \n",
       "2535  c4faafd5-9741-4929-adc2-c233d742ace0  22.283830  114.192427        語言班   \n",
       "2778  d7881d97-8218-4aa2-b685-3c5013ff56cf  22.291872  114.201648              \n",
       "2981  e7df9cf8-8ec0-4f97-81c7-4b27ba01123d  22.304028  114.170830        語言班   \n",
       "3006  e9e61b7c-db58-4a56-8752-3ced57701dd8  22.301402  114.175937  訂製/婚紗租借禮服   \n",
       "3137  f3689047-8b32-49a8-b3b7-4547dce791f4  22.398728  114.194400       轉運集運   \n",
       "\n",
       "            industry  \n",
       "257   not_classified  \n",
       "378   not_classified  \n",
       "420   not_classified  \n",
       "941   not_classified  \n",
       "1037  not_classified  \n",
       "1372  not_classified  \n",
       "2077  not_classified  \n",
       "2274  not_classified  \n",
       "2442  not_classified  \n",
       "2444  not_classified  \n",
       "2535  not_classified  \n",
       "2778  not_classified  \n",
       "2981  not_classified  \n",
       "3006  not_classified  \n",
       "3137  not_classified  "
      ]
     },
     "execution_count": 70,
     "metadata": {},
     "output_type": "execute_result"
    }
   ],
   "source": [
    "data_df[data_df['industry'] == 'not_classified']"
   ]
  },
  {
   "cell_type": "code",
   "execution_count": 73,
   "metadata": {
    "Collapsed": "false"
   },
   "outputs": [
    {
     "data": {
      "text/plain": [
       "industry\n",
       "not_classified      15\n",
       "交通及運輸               19\n",
       "休閒娛樂               182\n",
       "住宿                  26\n",
       "商業及專業服務             15\n",
       "婚禮服務               138\n",
       "媒體專頁及其他             29\n",
       "宗教及節慶                6\n",
       "家居                  50\n",
       "寵物                  51\n",
       "工藝品及擺設              20\n",
       "影音電器                65\n",
       "教育及補習               37\n",
       "文儀印刷                11\n",
       "服裝及配飾              371\n",
       "禮品、花卉及玩具           110\n",
       "美容及個人護理            288\n",
       "興趣班                 73\n",
       "裝修及工程               10\n",
       "設計及製作               47\n",
       "運動及戶外活動             70\n",
       "醫療及保健               87\n",
       "音樂、攝影及藝術            83\n",
       "食物零售               163\n",
       "餐飲                1328\n",
       "Name: 0, dtype: int64"
      ]
     },
     "execution_count": 73,
     "metadata": {},
     "output_type": "execute_result"
    }
   ],
   "source": [
    "data_df.groupby('industry').count()[0]\n"
   ]
  },
  {
   "cell_type": "markdown",
   "metadata": {
    "Collapsed": "false"
   },
   "source": [
    "# Select restaurants"
   ]
  },
  {
   "cell_type": "code",
   "execution_count": 26,
   "metadata": {
    "Collapsed": "false"
   },
   "outputs": [
    {
     "name": "stdout",
     "output_type": "stream",
     "text": [
      "1328\n"
     ]
    },
    {
     "data": {
      "text/html": [
       "<div>\n",
       "<style scoped>\n",
       "    .dataframe tbody tr th:only-of-type {\n",
       "        vertical-align: middle;\n",
       "    }\n",
       "\n",
       "    .dataframe tbody tr th {\n",
       "        vertical-align: top;\n",
       "    }\n",
       "\n",
       "    .dataframe thead th {\n",
       "        text-align: right;\n",
       "    }\n",
       "</style>\n",
       "<table border=\"1\" class=\"dataframe\">\n",
       "  <thead>\n",
       "    <tr style=\"text-align: right;\">\n",
       "      <th></th>\n",
       "      <th>0</th>\n",
       "      <th>1</th>\n",
       "      <th>2</th>\n",
       "      <th>3</th>\n",
       "    </tr>\n",
       "  </thead>\n",
       "  <tbody>\n",
       "    <tr>\n",
       "      <td>1</td>\n",
       "      <td>001baf57-fd79-4aa3-b8c5-cc4b1ee90dc7</td>\n",
       "      <td>22.281746</td>\n",
       "      <td>114.127070</td>\n",
       "      <td>生活百貨/健康食品/素食</td>\n",
       "    </tr>\n",
       "    <tr>\n",
       "      <td>4</td>\n",
       "      <td>00396213-e822-490d-880b-64704cdef0c5</td>\n",
       "      <td>22.452254</td>\n",
       "      <td>114.000403</td>\n",
       "      <td>日本菜</td>\n",
       "    </tr>\n",
       "    <tr>\n",
       "      <td>5</td>\n",
       "      <td>004502c9-ed26-44d3-a337-8ce544b114bf</td>\n",
       "      <td>22.282062</td>\n",
       "      <td>114.183563</td>\n",
       "      <td>日本菜/拉麵</td>\n",
       "    </tr>\n",
       "    <tr>\n",
       "      <td>6</td>\n",
       "      <td>00495684-257f-41dc-ae13-3875d9dcf6bb</td>\n",
       "      <td>22.312401</td>\n",
       "      <td>114.225222</td>\n",
       "      <td>素食/車仔麵/小食店/到會服務/賀年食品</td>\n",
       "    </tr>\n",
       "    <tr>\n",
       "      <td>7</td>\n",
       "      <td>00562a30-be70-4838-916f-a46a89eb54dd</td>\n",
       "      <td>22.379667</td>\n",
       "      <td>114.271421</td>\n",
       "      <td>西式/Cafe/All day Breakfast/甜品/雪糕</td>\n",
       "    </tr>\n",
       "  </tbody>\n",
       "</table>\n",
       "</div>"
      ],
      "text/plain": [
       "                                      0          1           2  \\\n",
       "1  001baf57-fd79-4aa3-b8c5-cc4b1ee90dc7  22.281746  114.127070   \n",
       "4  00396213-e822-490d-880b-64704cdef0c5  22.452254  114.000403   \n",
       "5  004502c9-ed26-44d3-a337-8ce544b114bf  22.282062  114.183563   \n",
       "6  00495684-257f-41dc-ae13-3875d9dcf6bb  22.312401  114.225222   \n",
       "7  00562a30-be70-4838-916f-a46a89eb54dd  22.379667  114.271421   \n",
       "\n",
       "                                 3  \n",
       "1                     生活百貨/健康食品/素食  \n",
       "4                              日本菜  \n",
       "5                           日本菜/拉麵  \n",
       "6             素食/車仔麵/小食店/到會服務/賀年食品  \n",
       "7  西式/Cafe/All day Breakfast/甜品/雪糕  "
      ]
     },
     "execution_count": 26,
     "metadata": {},
     "output_type": "execute_result"
    }
   ],
   "source": [
    "targetIdx = []\n",
    "for idx, row in data_df.iterrows():\n",
    "    tags = row[3].split('/')\n",
    "    for tag in tags:\n",
    "        if tag in industries['餐飲']:\n",
    "            targetIdx+=[idx]\n",
    "            break\n",
    "target_df = data_df.iloc[targetIdx]\n",
    "print(len(target_df))\n",
    "target_df.head()"
   ]
  },
  {
   "cell_type": "markdown",
   "metadata": {
    "Collapsed": "false"
   },
   "source": [
    "# Select those near Tsuen Wan"
   ]
  },
  {
   "cell_type": "code",
   "execution_count": 27,
   "metadata": {
    "Collapsed": "false"
   },
   "outputs": [],
   "source": [
    "twCoord = 22.3707241,114.0862009"
   ]
  },
  {
   "cell_type": "markdown",
   "metadata": {
    "Collapsed": "false"
   },
   "source": [
    "# Construct a KML file "
   ]
  },
  {
   "cell_type": "code",
   "execution_count": 28,
   "metadata": {
    "Collapsed": "false",
    "jupyter": {
     "source_hidden": true
    }
   },
   "outputs": [],
   "source": [
    "kmlCore = \"\"\"\n",
    "<?xml version=\"1.0\" encoding=\"UTF-8\"?>\n",
    "<kml xmlns=\"http://www.opengis.net/kml/2.2\">\n",
    "  <Document>\n",
    "    <name>%s</name>\n",
    "    <Style id=\"icon-1502-F9A825-normal\">\n",
    "      <IconStyle>\n",
    "        <color>ff25a8f9</color>\n",
    "        <scale>1</scale>\n",
    "        <Icon>\n",
    "          <href>https://www.gstatic.com/mapspro/images/stock/503-wht-blank_maps.png</href>\n",
    "        </Icon>\n",
    "      </IconStyle>\n",
    "      <LabelStyle>\n",
    "        <scale>0</scale>\n",
    "      </LabelStyle>\n",
    "    </Style>\n",
    "    <Style id=\"icon-1502-F9A825-highlight\">\n",
    "      <IconStyle>\n",
    "        <color>ff25a8f9</color>\n",
    "        <scale>1</scale>\n",
    "        <Icon>\n",
    "          <href>https://www.gstatic.com/mapspro/images/stock/503-wht-blank_maps.png</href>\n",
    "        </Icon>\n",
    "      </IconStyle>\n",
    "      <LabelStyle>\n",
    "        <scale>1</scale>\n",
    "      </LabelStyle>\n",
    "    </Style>\n",
    "    <StyleMap id=\"icon-1502-F9A825\">\n",
    "      <Pair>\n",
    "        <key>normal</key>\n",
    "        <styleUrl>#icon-1502-F9A825-normal</styleUrl>\n",
    "      </Pair>\n",
    "      <Pair>\n",
    "        <key>highlight</key>\n",
    "        <styleUrl>#icon-1502-F9A825-highlight</styleUrl>\n",
    "      </Pair>\n",
    "    </StyleMap>\n",
    "    <Style id=\"icon-1577-FF5252-normal\">\n",
    "      <IconStyle>\n",
    "        <color>ff5252ff</color>\n",
    "        <scale>1</scale>\n",
    "        <Icon>\n",
    "          <href>https://www.gstatic.com/mapspro/images/stock/503-wht-blank_maps.png</href>\n",
    "        </Icon>\n",
    "      </IconStyle>\n",
    "      <LabelStyle>\n",
    "        <scale>0</scale>\n",
    "      </LabelStyle>\n",
    "    </Style>\n",
    "    <Style id=\"icon-1577-FF5252-highlight\">\n",
    "      <IconStyle>\n",
    "        <color>ff5252ff</color>\n",
    "        <scale>1</scale>\n",
    "        <Icon>\n",
    "          <href>https://www.gstatic.com/mapspro/images/stock/503-wht-blank_maps.png</href>\n",
    "        </Icon>\n",
    "      </IconStyle>\n",
    "      <LabelStyle>\n",
    "        <scale>1</scale>\n",
    "      </LabelStyle>\n",
    "    </Style>\n",
    "    <StyleMap id=\"icon-1577-FF5252\">\n",
    "      <Pair>\n",
    "        <key>normal</key>\n",
    "        <styleUrl>#icon-1577-FF5252-normal</styleUrl>\n",
    "      </Pair>\n",
    "      <Pair>\n",
    "        <key>highlight</key>\n",
    "        <styleUrl>#icon-1577-FF5252-highlight</styleUrl>\n",
    "      </Pair>\n",
    "    </StyleMap>\n",
    "    <Style id=\"icon-1899-0288D1-normal\">\n",
    "      <IconStyle>\n",
    "        <color>ffd18802</color>\n",
    "        <scale>1</scale>\n",
    "        <Icon>\n",
    "          <href>https://www.gstatic.com/mapspro/images/stock/503-wht-blank_maps.png</href>\n",
    "        </Icon>\n",
    "        <hotSpot x=\"32\" xunits=\"pixels\" y=\"64\" yunits=\"insetPixels\"/>\n",
    "      </IconStyle>\n",
    "      <LabelStyle>\n",
    "        <scale>0</scale>\n",
    "      </LabelStyle>\n",
    "    </Style>\n",
    "    <Style id=\"icon-1899-0288D1-highlight\">\n",
    "      <IconStyle>\n",
    "        <color>ffd18802</color>\n",
    "        <scale>1</scale>\n",
    "        <Icon>\n",
    "          <href>https://www.gstatic.com/mapspro/images/stock/503-wht-blank_maps.png</href>\n",
    "        </Icon>\n",
    "        <hotSpot x=\"32\" xunits=\"pixels\" y=\"64\" yunits=\"insetPixels\"/>\n",
    "      </IconStyle>\n",
    "      <LabelStyle>\n",
    "        <scale>1</scale>\n",
    "      </LabelStyle>\n",
    "    </Style>\n",
    "    <StyleMap id=\"icon-1899-0288D1\">\n",
    "      <Pair>\n",
    "        <key>normal</key>\n",
    "        <styleUrl>#icon-1899-0288D1-normal</styleUrl>\n",
    "      </Pair>\n",
    "      <Pair>\n",
    "        <key>highlight</key>\n",
    "        <styleUrl>#icon-1899-0288D1-highlight</styleUrl>\n",
    "      </Pair>\n",
    "    </StyleMap>\n",
    "    %s\n",
    "  </Document>\n",
    "</kml>\n",
    "\"\"\""
   ]
  },
  {
   "cell_type": "code",
   "execution_count": 29,
   "metadata": {
    "Collapsed": "false",
    "jupyter": {
     "source_hidden": true
    }
   },
   "outputs": [],
   "source": [
    "star = \"\"\"\n",
    "<Placemark>\n",
    "      <name>%s</name>\n",
    "      <description>%s</description>\n",
    "      <styleUrl>#icon-1502-F9A825</styleUrl>\n",
    "      <Point>\n",
    "        <coordinates>\n",
    "          %s,%s,0\n",
    "        </coordinates>\n",
    "      </Point>\n",
    "    </Placemark>\n",
    "\"\"\"\n",
    "default = \"\"\"\n",
    "<Placemark>\n",
    "      <name>點3-default</name>\n",
    "      <description>點3-default-說明</description>\n",
    "      <styleUrl>#icon-1899-0288D1</styleUrl>\n",
    "      <Point>\n",
    "        <coordinates>\n",
    "          %s,%s,0\n",
    "        </coordinates>\n",
    "      </Point>\n",
    "    </Placemark>\n",
    "\n",
    "\"\"\"\n",
    "food = \"\"\"\n",
    "<Placemark>\n",
    "      <name>%s</name>\n",
    "      <description>%s</description>\n",
    "      <styleUrl>#icon-1577-FF5252</styleUrl>\n",
    "      <Point>\n",
    "        <coordinates>\n",
    "          %s,%s,0\n",
    "        </coordinates>\n",
    "      </Point>\n",
    "    </Placemark>\n",
    "\"\"\""
   ]
  },
  {
   "cell_type": "code",
   "execution_count": 31,
   "metadata": {
    "Collapsed": "false"
   },
   "outputs": [],
   "source": [
    "kmlBiteList = []\n",
    "for idx, row in target_df.iterrows():\n",
    "    kmlBiteList += [food%(row[0], row[3], row[2], row[1])]"
   ]
  },
  {
   "cell_type": "code",
   "execution_count": 32,
   "metadata": {
    "Collapsed": "false"
   },
   "outputs": [],
   "source": [
    "kmlPointSection = ''.join(kmlBiteList)"
   ]
  },
  {
   "cell_type": "code",
   "execution_count": 33,
   "metadata": {
    "Collapsed": "false"
   },
   "outputs": [
    {
     "name": "stdout",
     "output_type": "stream",
     "text": [
      "\n",
      "<Placemark>\n",
      "      <name>001baf57-fd79-4aa3-b8c5-cc4b1ee90dc7</name>\n",
      "      <description>生活百貨/健康食品/素食</description>\n",
      "      <styleUrl>#icon-1577-FF5252</styleUrl>\n",
      "      <Point>\n",
      "        <coordinates>\n",
      "          114.1270698,22.281746,0\n",
      "        </coordinates>\n",
      "      </Point>\n",
      "    </Placemark>\n",
      "\n"
     ]
    }
   ],
   "source": [
    "print(kmlBiteList[0])"
   ]
  },
  {
   "cell_type": "code",
   "execution_count": 34,
   "metadata": {
    "Collapsed": "false"
   },
   "outputs": [],
   "source": [
    "kml = kmlCore%('full list (will sort out what they are later)', kmlPointSection)"
   ]
  },
  {
   "cell_type": "code",
   "execution_count": 35,
   "metadata": {
    "Collapsed": "false"
   },
   "outputs": [],
   "source": [
    "with open('./fullList.kml', 'w') as f:\n",
    "    f.write(kml)"
   ]
  },
  {
   "cell_type": "code",
   "execution_count": 36,
   "metadata": {
    "Collapsed": "false"
   },
   "outputs": [],
   "source": [
    "foodID = '80fb6857-f53a-4cb2-9948-4bbdd9932cb1'\n",
    "url = 'http://hkshoplist.com/api/getShopDetails.php?from=maps&id=%s'%foodID\n",
    "res = requests.get(url)"
   ]
  },
  {
   "cell_type": "code",
   "execution_count": 38,
   "metadata": {
    "Collapsed": "false"
   },
   "outputs": [],
   "source": [
    "fail_df = dict(foodID = [], reason = [], status_code=[], res = [])\n",
    "failCounter = 0\n",
    "foodDetails = []\n",
    "for idx, row in target_df.iterrows():\n",
    "    break\n",
    "    \n",
    "    print(idx, end='   /r')\n",
    "    time.sleep(0.5)\n",
    "    \n",
    "    foodID = row[0]\n",
    "    url = 'http://hkshoplist.com/api/getShopDetails.php?from=maps&id=%s'%foodID\n",
    "    res = requests.get(url)\n",
    "    \n",
    "    if not res.ok:\n",
    "        fail_df['foodID']= foodID\n",
    "        fail_df['reason']= res.reason\n",
    "        fail_df['status_code']= res.status_code\n",
    "        fail_df['res'] = res\n",
    "        failCounter += 1\n",
    "        if failCounter>5:\n",
    "            print('failed 5 times in a row. stoped')\n",
    "            break\n",
    "        continue\n",
    "    failCounter = 0\n",
    "    try: \n",
    "        foodDetails += res.json()\n",
    "    except:\n",
    "        print ('errors in %s'%foodID)\n",
    "    \n",
    "foodDetails_df = pd.DataFrame(foodDetails)  "
   ]
  },
  {
   "cell_type": "code",
   "execution_count": 45,
   "metadata": {
    "Collapsed": "false"
   },
   "outputs": [],
   "source": [
    "foodDetails_df.head()\n",
    "if len(foodDetails_df): \n",
    "    #foodDetails_df.to_pickle('./shopListDetails.pkl')\n",
    "    pass"
   ]
  },
  {
   "cell_type": "code",
   "execution_count": 46,
   "metadata": {
    "Collapsed": "false"
   },
   "outputs": [
    {
     "data": {
      "text/html": [
       "<div>\n",
       "<style scoped>\n",
       "    .dataframe tbody tr th:only-of-type {\n",
       "        vertical-align: middle;\n",
       "    }\n",
       "\n",
       "    .dataframe tbody tr th {\n",
       "        vertical-align: top;\n",
       "    }\n",
       "\n",
       "    .dataframe thead th {\n",
       "        text-align: right;\n",
       "    }\n",
       "</style>\n",
       "<table border=\"1\" class=\"dataframe\">\n",
       "  <thead>\n",
       "    <tr style=\"text-align: right;\">\n",
       "      <th></th>\n",
       "      <th>num</th>\n",
       "      <th>BRAND</th>\n",
       "      <th>SUBCATEGORIES</th>\n",
       "      <th>SUB_DISTRICT</th>\n",
       "      <th>ADDRESS</th>\n",
       "      <th>CONTACT</th>\n",
       "      <th>TIME</th>\n",
       "      <th>Facebook</th>\n",
       "      <th>Instagram</th>\n",
       "      <th>Homepage</th>\n",
       "      <th>Evidence</th>\n",
       "      <th>Evidence_link</th>\n",
       "    </tr>\n",
       "  </thead>\n",
       "  <tbody>\n",
       "    <tr>\n",
       "      <td>0</td>\n",
       "      <td>001baf57-fd79-4aa3-b8c5-cc4b1ee90dc7</td>\n",
       "      <td>Slowood</td>\n",
       "      <td>生活百貨/健康食品/素食</td>\n",
       "      <td>西營盤</td>\n",
       "      <td>西營盤爹核士街11號浚峯地下1-3地舖</td>\n",
       "      <td>28180203</td>\n",
       "      <td>星期一至四10:00-22:00\\n星期五至六10:00-23:00\\n星期日10:00-2...</td>\n",
       "      <td>Slowood.hk</td>\n",
       "      <td>slowood.hk</td>\n",
       "      <td>https://slowood.hk</td>\n",
       "      <td>12/6, 5/8, 12/11參與罷市</td>\n",
       "      <td>https://www.facebook.com/Slowood.hk/photos/515...</td>\n",
       "    </tr>\n",
       "    <tr>\n",
       "      <td>1</td>\n",
       "      <td>00396213-e822-490d-880b-64704cdef0c5</td>\n",
       "      <td>櫻花樹下</td>\n",
       "      <td>日本菜</td>\n",
       "      <td>天水圍</td>\n",
       "      <td>天水圍天湖路1號嘉湖新北江商場1樓C41C號舖</td>\n",
       "      <td>64204555</td>\n",
       "      <td>/</td>\n",
       "      <td></td>\n",
       "      <td></td>\n",
       "      <td></td>\n",
       "      <td>11/11-12/11罷市</td>\n",
       "      <td>https://ibb.co/LY71W7y</td>\n",
       "    </tr>\n",
       "    <tr>\n",
       "      <td>2</td>\n",
       "      <td>004502c9-ed26-44d3-a337-8ce544b114bf</td>\n",
       "      <td>博多拉麵別天神</td>\n",
       "      <td>日本菜/拉麵</td>\n",
       "      <td>銅鑼灣</td>\n",
       "      <td>銅鑼灣告士打道277號地下3A號舖</td>\n",
       "      <td>34882693</td>\n",
       "      <td>星期一至日12:00-15:30,18:00-00:30</td>\n",
       "      <td>ramenbetsu</td>\n",
       "      <td>ramen_betsu</td>\n",
       "      <td>https://www.ramenbetsu.com/wp/</td>\n",
       "      <td>5/8參與罷市,所有惠顧送rfid卡套,學生半價優惠</td>\n",
       "      <td>https://www.instagram.com/p/B3W1qfrgqe9/</td>\n",
       "    </tr>\n",
       "    <tr>\n",
       "      <td>3</td>\n",
       "      <td>00495684-257f-41dc-ae13-3875d9dcf6bb</td>\n",
       "      <td>素悅軒</td>\n",
       "      <td>素食/車仔麵/小食店/到會服務/賀年食品</td>\n",
       "      <td>荃灣</td>\n",
       "      <td>荃灣兆和街25號海晴軒15號舖</td>\n",
       "      <td>34864428</td>\n",
       "      <td>星期一至日12:00-21:00</td>\n",
       "      <td>SoYuetHin</td>\n",
       "      <td></td>\n",
       "      <td></td>\n",
       "      <td>5/8罷市並開放休息, 14/11罷市, 每賣一張學生飯券送出多一張</td>\n",
       "      <td>https://www.facebook.com/SoYuetHin/posts/85816...</td>\n",
       "    </tr>\n",
       "    <tr>\n",
       "      <td>4</td>\n",
       "      <td>00562a30-be70-4838-916f-a46a89eb54dd</td>\n",
       "      <td>一起果醬Let's Jam Bistro</td>\n",
       "      <td>西式/Cafe/All day Breakfast/甜品/雪糕</td>\n",
       "      <td>西貢</td>\n",
       "      <td>西貢市場街9號地下</td>\n",
       "      <td>39565646</td>\n",
       "      <td>星期一至四12:00-22:30\\n星期五12:00-23:00\\n星期六或公眾假期前夕11...</td>\n",
       "      <td>Lets-Jam-一起果醬-592839210780646</td>\n",
       "      <td>letsjam_</td>\n",
       "      <td>https://letsjam.hk/</td>\n",
       "      <td>武漢肺炎期間暫不招待內地人,捐款予星火,店舖連儂牆,長期發帖及多次罷市支持遊行</td>\n",
       "      <td>https://www.facebook.com/592839210780646/photo...</td>\n",
       "    </tr>\n",
       "    <tr>\n",
       "      <td>...</td>\n",
       "      <td>...</td>\n",
       "      <td>...</td>\n",
       "      <td>...</td>\n",
       "      <td>...</td>\n",
       "      <td>...</td>\n",
       "      <td>...</td>\n",
       "      <td>...</td>\n",
       "      <td>...</td>\n",
       "      <td>...</td>\n",
       "      <td>...</td>\n",
       "      <td>...</td>\n",
       "      <td>...</td>\n",
       "    </tr>\n",
       "    <tr>\n",
       "      <td>1323</td>\n",
       "      <td>fe4423e2-cc9a-454b-9129-9716a3d46efc</td>\n",
       "      <td>梔子</td>\n",
       "      <td>Cafe/西式/甜品/果汁/茶葉</td>\n",
       "      <td>尖沙咀</td>\n",
       "      <td>尖沙咀山林道8號地舖</td>\n",
       "      <td>27781628</td>\n",
       "      <td>星期一至日12:00-00:00</td>\n",
       "      <td>cafezi.official</td>\n",
       "      <td>cafezi.official</td>\n",
       "      <td></td>\n",
       "      <td>12/6, 5/8, 11/11, 13/11罷市</td>\n",
       "      <td>https://www.instagram.com/p/B0tHi7KB5gk/</td>\n",
       "    </tr>\n",
       "    <tr>\n",
       "      <td>1324</td>\n",
       "      <td>ff737146-6a1e-4d2b-b052-adf4d24dc815</td>\n",
       "      <td>廿一由八 Twenty One From Eight</td>\n",
       "      <td>精品咖啡/麵包或蛋糕/Cafe</td>\n",
       "      <td>觀塘</td>\n",
       "      <td>觀塘鴻圖道59號鵬光大廈11樓</td>\n",
       "      <td>23211738</td>\n",
       "      <td>星期一全日休息\\n星期二至日12:00-18:30</td>\n",
       "      <td>twentyonefromeight</td>\n",
       "      <td>twenty_one_from_eight</td>\n",
       "      <td>https://www.twentyonefromeight.com/</td>\n",
       "      <td>12,6 5/8罷市</td>\n",
       "      <td>https://www.facebook.com/twentyonefromeight/ph...</td>\n",
       "    </tr>\n",
       "    <tr>\n",
       "      <td>1325</td>\n",
       "      <td>ff73eea0-c0c5-42d4-88bc-08f5ea8e72b1</td>\n",
       "      <td>Hidden Kitchen</td>\n",
       "      <td>西式/素食/三文治/All Day Breakfast/果汁/Cafe/即食食品</td>\n",
       "      <td>紅磡</td>\n",
       "      <td>紅磡北拱街8號薈點1樓3室</td>\n",
       "      <td>62335127</td>\n",
       "      <td>星期三至四10:30-20:00\\n星期五至日10:30-22:00</td>\n",
       "      <td>hiddenkitchenhk</td>\n",
       "      <td>hiddenkitchenhk</td>\n",
       "      <td></td>\n",
       "      <td>16/6,5/8,11-13/11罷市</td>\n",
       "      <td>https://www.facebook.com/hiddenkitchenhk/photo...</td>\n",
       "    </tr>\n",
       "    <tr>\n",
       "      <td>1326</td>\n",
       "      <td>ff797b32-3945-43de-9c3e-0f14bccd7deb</td>\n",
       "      <td>窩子 WoZi</td>\n",
       "      <td>西式/精品咖啡</td>\n",
       "      <td>新蒲崗</td>\n",
       "      <td>新蒲崗仁愛街36號地下</td>\n",
       "      <td>27960001</td>\n",
       "      <td>星期三至一12:00-22:00\\n星期二全日休息</td>\n",
       "      <td>wozi.cafe</td>\n",
       "      <td>wozi.cafe</td>\n",
       "      <td></td>\n",
       "      <td>5/8, 11/11罷市</td>\n",
       "      <td>https://www.facebook.com/wozi.cafe/photos/2607...</td>\n",
       "    </tr>\n",
       "    <tr>\n",
       "      <td>1327</td>\n",
       "      <td>ff924189-e4b8-4fc2-aa1d-45b851c5aabf</td>\n",
       "      <td>365小食部</td>\n",
       "      <td>小食店/台式飲品</td>\n",
       "      <td>葵涌</td>\n",
       "      <td>葵涌石籬大白田街29號地下</td>\n",
       "      <td>23201660</td>\n",
       "      <td>/</td>\n",
       "      <td>365DeliHK</td>\n",
       "      <td></td>\n",
       "      <td></td>\n",
       "      <td>12/6參與罷市</td>\n",
       "      <td>https://www.facebook.com/365DeliHK/photos/2374...</td>\n",
       "    </tr>\n",
       "  </tbody>\n",
       "</table>\n",
       "<p>1328 rows × 12 columns</p>\n",
       "</div>"
      ],
      "text/plain": [
       "                                       num                       BRAND  \\\n",
       "0     001baf57-fd79-4aa3-b8c5-cc4b1ee90dc7                     Slowood   \n",
       "1     00396213-e822-490d-880b-64704cdef0c5                        櫻花樹下   \n",
       "2     004502c9-ed26-44d3-a337-8ce544b114bf                     博多拉麵別天神   \n",
       "3     00495684-257f-41dc-ae13-3875d9dcf6bb                         素悅軒   \n",
       "4     00562a30-be70-4838-916f-a46a89eb54dd        一起果醬Let's Jam Bistro   \n",
       "...                                    ...                         ...   \n",
       "1323  fe4423e2-cc9a-454b-9129-9716a3d46efc                          梔子   \n",
       "1324  ff737146-6a1e-4d2b-b052-adf4d24dc815  廿一由八 Twenty One From Eight   \n",
       "1325  ff73eea0-c0c5-42d4-88bc-08f5ea8e72b1              Hidden Kitchen   \n",
       "1326  ff797b32-3945-43de-9c3e-0f14bccd7deb                     窩子 WoZi   \n",
       "1327  ff924189-e4b8-4fc2-aa1d-45b851c5aabf                      365小食部   \n",
       "\n",
       "                                 SUBCATEGORIES SUB_DISTRICT  \\\n",
       "0                                 生活百貨/健康食品/素食          西營盤   \n",
       "1                                          日本菜          天水圍   \n",
       "2                                       日本菜/拉麵          銅鑼灣   \n",
       "3                         素食/車仔麵/小食店/到會服務/賀年食品           荃灣   \n",
       "4              西式/Cafe/All day Breakfast/甜品/雪糕           西貢   \n",
       "...                                        ...          ...   \n",
       "1323                          Cafe/西式/甜品/果汁/茶葉          尖沙咀   \n",
       "1324                           精品咖啡/麵包或蛋糕/Cafe           觀塘   \n",
       "1325  西式/素食/三文治/All Day Breakfast/果汁/Cafe/即食食品           紅磡   \n",
       "1326                                   西式/精品咖啡          新蒲崗   \n",
       "1327                                  小食店/台式飲品           葵涌   \n",
       "\n",
       "                      ADDRESS   CONTACT  \\\n",
       "0         西營盤爹核士街11號浚峯地下1-3地舖  28180203   \n",
       "1     天水圍天湖路1號嘉湖新北江商場1樓C41C號舖  64204555   \n",
       "2           銅鑼灣告士打道277號地下3A號舖  34882693   \n",
       "3             荃灣兆和街25號海晴軒15號舖  34864428   \n",
       "4                   西貢市場街9號地下  39565646   \n",
       "...                       ...       ...   \n",
       "1323               尖沙咀山林道8號地舖  27781628   \n",
       "1324          觀塘鴻圖道59號鵬光大廈11樓  23211738   \n",
       "1325            紅磡北拱街8號薈點1樓3室  62335127   \n",
       "1326              新蒲崗仁愛街36號地下  27960001   \n",
       "1327            葵涌石籬大白田街29號地下  23201660   \n",
       "\n",
       "                                                   TIME  \\\n",
       "0     星期一至四10:00-22:00\\n星期五至六10:00-23:00\\n星期日10:00-2...   \n",
       "1                                                     /   \n",
       "2                          星期一至日12:00-15:30,18:00-00:30   \n",
       "3                                      星期一至日12:00-21:00   \n",
       "4     星期一至四12:00-22:30\\n星期五12:00-23:00\\n星期六或公眾假期前夕11...   \n",
       "...                                                 ...   \n",
       "1323                                   星期一至日12:00-00:00   \n",
       "1324                          星期一全日休息\\n星期二至日12:00-18:30   \n",
       "1325                 星期三至四10:30-20:00\\n星期五至日10:30-22:00   \n",
       "1326                          星期三至一12:00-22:00\\n星期二全日休息   \n",
       "1327                                                  /   \n",
       "\n",
       "                           Facebook              Instagram  \\\n",
       "0                        Slowood.hk             slowood.hk   \n",
       "1                                                            \n",
       "2                        ramenbetsu            ramen_betsu   \n",
       "3                         SoYuetHin                          \n",
       "4     Lets-Jam-一起果醬-592839210780646               letsjam_   \n",
       "...                             ...                    ...   \n",
       "1323                cafezi.official        cafezi.official   \n",
       "1324             twentyonefromeight  twenty_one_from_eight   \n",
       "1325                hiddenkitchenhk        hiddenkitchenhk   \n",
       "1326                      wozi.cafe              wozi.cafe   \n",
       "1327                      365DeliHK                          \n",
       "\n",
       "                                 Homepage  \\\n",
       "0                      https://slowood.hk   \n",
       "1                                           \n",
       "2          https://www.ramenbetsu.com/wp/   \n",
       "3                                           \n",
       "4                     https://letsjam.hk/   \n",
       "...                                   ...   \n",
       "1323                                        \n",
       "1324  https://www.twentyonefromeight.com/   \n",
       "1325                                        \n",
       "1326                                        \n",
       "1327                                        \n",
       "\n",
       "                                     Evidence  \\\n",
       "0                        12/6, 5/8, 12/11參與罷市   \n",
       "1                               11/11-12/11罷市   \n",
       "2                  5/8參與罷市,所有惠顧送rfid卡套,學生半價優惠   \n",
       "3          5/8罷市並開放休息, 14/11罷市, 每賣一張學生飯券送出多一張   \n",
       "4     武漢肺炎期間暫不招待內地人,捐款予星火,店舖連儂牆,長期發帖及多次罷市支持遊行   \n",
       "...                                       ...   \n",
       "1323                12/6, 5/8, 11/11, 13/11罷市   \n",
       "1324                               12,6 5/8罷市   \n",
       "1325                      16/6,5/8,11-13/11罷市   \n",
       "1326                             5/8, 11/11罷市   \n",
       "1327                                 12/6參與罷市   \n",
       "\n",
       "                                          Evidence_link  \n",
       "0     https://www.facebook.com/Slowood.hk/photos/515...  \n",
       "1                                https://ibb.co/LY71W7y  \n",
       "2              https://www.instagram.com/p/B3W1qfrgqe9/  \n",
       "3     https://www.facebook.com/SoYuetHin/posts/85816...  \n",
       "4     https://www.facebook.com/592839210780646/photo...  \n",
       "...                                                 ...  \n",
       "1323           https://www.instagram.com/p/B0tHi7KB5gk/  \n",
       "1324  https://www.facebook.com/twentyonefromeight/ph...  \n",
       "1325  https://www.facebook.com/hiddenkitchenhk/photo...  \n",
       "1326  https://www.facebook.com/wozi.cafe/photos/2607...  \n",
       "1327  https://www.facebook.com/365DeliHK/photos/2374...  \n",
       "\n",
       "[1328 rows x 12 columns]"
      ]
     },
     "execution_count": 46,
     "metadata": {},
     "output_type": "execute_result"
    }
   ],
   "source": [
    "foodDetails_df = pd.read_pickle('./shopListDetails.pkl')\n",
    "foodDetails_df"
   ]
  },
  {
   "cell_type": "code",
   "execution_count": null,
   "metadata": {
    "Collapsed": "false"
   },
   "outputs": [],
   "source": [
    "kmlBiteList = []\n",
    "for idx, row in target_df.iterrows():\n",
    "    \n",
    "    details = foodDetails_df[foodDetails_df['num']==row[0]].iloc[0]\n",
    "    des = '<br>'.join([details['CONTACT'], details['ADDRESS'], details['SUBCATEGORIES']])\n",
    "    name = details['BRAND']\n",
    "    name = '<![CDATA[%s]]>'%name\n",
    "    des = '<![CDATA[%s]]>'%des\n",
    "    kmlBiteList += [food%(name, des, row[2], row[1])]\n",
    "\n",
    "    \n",
    "kmlPointSection = ''.join(kmlBiteList)"
   ]
  },
  {
   "cell_type": "code",
   "execution_count": null,
   "metadata": {
    "Collapsed": "false"
   },
   "outputs": [],
   "source": [
    "kml = kmlCore%('full list', kmlPointSection)\n",
    "with open('./fullList.kml', 'w') as f:\n",
    "    f.write(kml)"
   ]
  },
  {
   "cell_type": "code",
   "execution_count": null,
   "metadata": {
    "Collapsed": "false"
   },
   "outputs": [],
   "source": [
    "print(kmlBiteList[0])"
   ]
  },
  {
   "cell_type": "code",
   "execution_count": null,
   "metadata": {
    "Collapsed": "false"
   },
   "outputs": [],
   "source": [
    "details['BRAND']"
   ]
  },
  {
   "cell_type": "code",
   "execution_count": null,
   "metadata": {
    "Collapsed": "false"
   },
   "outputs": [],
   "source": [
    "foodDetails_df['BRAND']"
   ]
  },
  {
   "cell_type": "code",
   "execution_count": 60,
   "metadata": {
    "Collapsed": "false"
   },
   "outputs": [
    {
     "data": {
      "image/svg+xml": [
       "<svg xmlns=\"http://www.w3.org/2000/svg\" xmlns:xlink=\"http://www.w3.org/1999/xlink\" width=\"100.0\" height=\"100.0\" viewBox=\"114.10417484000001 22.35938934 0.02164481999997747 0.019422320000000326\" preserveAspectRatio=\"xMinYMin meet\"><g transform=\"matrix(1,0,0,-1,0,44.738201000000004)\"><path fill-rule=\"evenodd\" fill=\"#66cc99\" stroke=\"#555555\" stroke-width=\"0.00043289639999954943\" opacity=\"0.6\" d=\"M 114.1050623,22.3767004 L 114.1049765,22.3675332 L 114.1124867,22.360191 L 114.1217135,22.3630485 L 114.125018,22.3688428 L 114.1221426,22.3750337 L 114.1137741,22.37801 L 114.1050623,22.3767004 z\" /></g></svg>"
      ],
      "text/plain": [
       "<shapely.geometry.polygon.Polygon at 0x10e4894d0>"
      ]
     },
     "execution_count": 60,
     "metadata": {},
     "output_type": "execute_result"
    }
   ],
   "source": [
    "from shapely.geometry import Point\n",
    "from shapely.geometry.polygon import Polygon\n",
    "polygonTxtTW = \"\"\"114.1050623,22.3767004,0\n",
    "              114.1049765,22.3675332,0\n",
    "              114.1124867,22.360191,0\n",
    "              114.1217135,22.3630485,0\n",
    "              114.125018,22.3688428,0\n",
    "              114.1221426,22.3750337,0\n",
    "              114.1137741,22.37801,0\n",
    "              114.1050623,22.3767004,0\"\"\"\n",
    "polygonTxtTW = polygonTxtTW.replace(' ', '').split('\\n')\n",
    "polygonTW = []\n",
    "for XY in polygonTxtTW:\n",
    "    X,Y,Z = XY.split(',')\n",
    "    polygonTW += [(float(X), float(Y))]\n",
    "polygonTW = Polygon(polygonTW)\n",
    "polygonTW"
   ]
  },
  {
   "cell_type": "code",
   "execution_count": 76,
   "metadata": {
    "Collapsed": "false"
   },
   "outputs": [],
   "source": [
    "inTW = []\n",
    "for idx, row in target_df.iterrows():\n",
    "    shopLoc = Point(row[2], row[1])\n",
    "    if polygonTW.contains(shopLoc):\n",
    "        inTW += [idx]"
   ]
  },
  {
   "cell_type": "code",
   "execution_count": 82,
   "metadata": {
    "Collapsed": "false"
   },
   "outputs": [],
   "source": [
    "TWshopList = []\n",
    "shopIDinTW = target_df.loc[inTW,:]\n",
    "for idx, row in shopIDinTW.iterrows():\n",
    "    shopID = row[0]\n",
    "    \n",
    "    TWshopList += [foodDetails_df[foodDetails_df['num'] == shopID]]"
   ]
  },
  {
   "cell_type": "code",
   "execution_count": 87,
   "metadata": {
    "Collapsed": "false"
   },
   "outputs": [],
   "source": [
    "TWshopList = pd.concat(TWshopList)"
   ]
  },
  {
   "cell_type": "code",
   "execution_count": 88,
   "metadata": {
    "Collapsed": "false"
   },
   "outputs": [],
   "source": [
    "TWshopList.to_csv('./twShopList.csv')"
   ]
  },
  {
   "cell_type": "code",
   "execution_count": null,
   "metadata": {
    "Collapsed": "false"
   },
   "outputs": [],
   "source": []
  }
 ],
 "metadata": {
  "kernelspec": {
   "display_name": "Python 3",
   "language": "python",
   "name": "python3"
  },
  "language_info": {
   "codemirror_mode": {
    "name": "ipython",
    "version": 3
   },
   "file_extension": ".py",
   "mimetype": "text/x-python",
   "name": "python",
   "nbconvert_exporter": "python",
   "pygments_lexer": "ipython3",
   "version": "3.7.4"
  }
 },
 "nbformat": 4,
 "nbformat_minor": 4
}
